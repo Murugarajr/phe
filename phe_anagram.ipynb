{
 "cells": [
  {
   "cell_type": "markdown",
   "metadata": {},
   "source": [
    "# Find anagrams from the given input data\n"
   ]
  },
  {
   "cell_type": "markdown",
   "metadata": {},
   "source": [
    "This input data set used for this code is from https://www.wordgamedictionary.com/english-word-list/download/english.txt\n",
    "It has a `process` function that receives an input argument `reference`[english.txt] containing 144884 words separated by line-breaks. This function will do the pre-processing of the reference data.\n",
    "The output of `process` should then receive an input argument `word` [str] and find the anagrams of `word` in the 144884 words that were supplied and return the results."
   ]
  },
  {
   "cell_type": "code",
   "execution_count": 1,
   "metadata": {},
   "outputs": [
    {
     "name": "stdout",
     "output_type": "stream",
     "text": [
      "Enter the input word to find anagrams:rescued\n",
      "seducer\n",
      "secured\n",
      "rescued\n"
     ]
    }
   ],
   "source": [
    "from collections import defaultdict\n",
    "\n",
    "word_set = defaultdict(set)\n",
    "\n",
    "\n",
    "def process(reference):\n",
    "    \"\"\"\n",
    "    process function receives an input argument (input data) and do the pre-processing of the reference data\n",
    "    :param reference:\n",
    "    \"\"\"\n",
    "    for word in open(reference):\n",
    "        word = word.lower().strip()\n",
    "        if word:\n",
    "            word_set[frozenset(word)].add(word)\n",
    "\n",
    "\n",
    "def find_anagrams(word):\n",
    "    \"\"\"\n",
    "    This function find the superset of possible anagram words and then filter it out based on the input word\n",
    "\n",
    "    :param word:\n",
    "    :return:anagrams of 'word' from the input data that were supplied\n",
    "    \"\"\"\n",
    "    anagram_output = word_set[frozenset(word)]\n",
    "    for anagrams in anagram_output:\n",
    "        if sorted(anagrams) == sorted(word):\n",
    "            print(anagrams)\n",
    "\n",
    "\n",
    "if __name__ == '__main__':\n",
    "    # words list(total=144884) from https://www.wordgamedictionary.com/english-word-list/download/english.txt is\n",
    "    # used as a input data\n",
    "    data = \"english.txt\"\n",
    "    process(reference=data)\n",
    "    input_parm = input(\"Enter the input word to find anagrams:\")\n",
    "    find_anagrams(word=input_parm)"
   ]
  },
  {
   "cell_type": "code",
   "execution_count": null,
   "metadata": {},
   "outputs": [],
   "source": []
  }
 ],
 "metadata": {
  "kernelspec": {
   "display_name": "Python 3",
   "language": "python",
   "name": "python3"
  },
  "language_info": {
   "codemirror_mode": {
    "name": "ipython",
    "version": 3
   },
   "file_extension": ".py",
   "mimetype": "text/x-python",
   "name": "python",
   "nbconvert_exporter": "python",
   "pygments_lexer": "ipython3",
   "version": "3.7.8"
  }
 },
 "nbformat": 4,
 "nbformat_minor": 4
}
